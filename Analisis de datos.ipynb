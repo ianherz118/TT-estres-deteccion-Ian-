{
 "cells": [
  {
   "cell_type": "code",
   "execution_count": 22,
   "id": "conservative-sunset",
   "metadata": {},
   "outputs": [],
   "source": [
    "import pandas as pd "
   ]
  },
  {
   "cell_type": "code",
   "execution_count": 23,
   "id": "numerous-compilation",
   "metadata": {},
   "outputs": [
    {
     "data": {
      "text/html": [
       "<div>\n",
       "<style scoped>\n",
       "    .dataframe tbody tr th:only-of-type {\n",
       "        vertical-align: middle;\n",
       "    }\n",
       "\n",
       "    .dataframe tbody tr th {\n",
       "        vertical-align: top;\n",
       "    }\n",
       "\n",
       "    .dataframe thead th {\n",
       "        text-align: right;\n",
       "    }\n",
       "</style>\n",
       "<table border=\"1\" class=\"dataframe\">\n",
       "  <thead>\n",
       "    <tr style=\"text-align: right;\">\n",
       "      <th></th>\n",
       "      <th>HR</th>\n",
       "      <th>MEDIAN_RR</th>\n",
       "      <th>LF</th>\n",
       "      <th>MEDIAN_REL_RR</th>\n",
       "      <th>sampen</th>\n",
       "      <th>pNN50</th>\n",
       "      <th>condition_no stress</th>\n",
       "    </tr>\n",
       "  </thead>\n",
       "  <tbody>\n",
       "    <tr>\n",
       "      <th>0</th>\n",
       "      <td>84.121868</td>\n",
       "      <td>727.267280</td>\n",
       "      <td>615.914573</td>\n",
       "      <td>-0.000951</td>\n",
       "      <td>2.097342</td>\n",
       "      <td>0.000000</td>\n",
       "      <td>1</td>\n",
       "    </tr>\n",
       "    <tr>\n",
       "      <th>1</th>\n",
       "      <td>71.478642</td>\n",
       "      <td>844.407930</td>\n",
       "      <td>1566.866135</td>\n",
       "      <td>-0.001543</td>\n",
       "      <td>2.217275</td>\n",
       "      <td>0.200000</td>\n",
       "      <td>0</td>\n",
       "    </tr>\n",
       "    <tr>\n",
       "      <th>2</th>\n",
       "      <td>63.874293</td>\n",
       "      <td>966.671125</td>\n",
       "      <td>2074.868884</td>\n",
       "      <td>-0.002000</td>\n",
       "      <td>2.217136</td>\n",
       "      <td>1.800000</td>\n",
       "      <td>1</td>\n",
       "    </tr>\n",
       "    <tr>\n",
       "      <th>3</th>\n",
       "      <td>74.330531</td>\n",
       "      <td>842.485905</td>\n",
       "      <td>505.886664</td>\n",
       "      <td>0.000445</td>\n",
       "      <td>2.106863</td>\n",
       "      <td>0.533333</td>\n",
       "      <td>1</td>\n",
       "    </tr>\n",
       "    <tr>\n",
       "      <th>4</th>\n",
       "      <td>82.092049</td>\n",
       "      <td>747.941620</td>\n",
       "      <td>524.203971</td>\n",
       "      <td>-0.000170</td>\n",
       "      <td>1.912191</td>\n",
       "      <td>0.666667</td>\n",
       "      <td>0</td>\n",
       "    </tr>\n",
       "    <tr>\n",
       "      <th>5</th>\n",
       "      <td>72.562697</td>\n",
       "      <td>836.596795</td>\n",
       "      <td>586.603990</td>\n",
       "      <td>0.000707</td>\n",
       "      <td>2.177956</td>\n",
       "      <td>0.266667</td>\n",
       "      <td>0</td>\n",
       "    </tr>\n",
       "    <tr>\n",
       "      <th>6</th>\n",
       "      <td>72.816960</td>\n",
       "      <td>834.290000</td>\n",
       "      <td>946.326297</td>\n",
       "      <td>-0.000266</td>\n",
       "      <td>2.186655</td>\n",
       "      <td>0.000000</td>\n",
       "      <td>0</td>\n",
       "    </tr>\n",
       "    <tr>\n",
       "      <th>7</th>\n",
       "      <td>83.951285</td>\n",
       "      <td>717.521215</td>\n",
       "      <td>349.917630</td>\n",
       "      <td>0.000067</td>\n",
       "      <td>2.195558</td>\n",
       "      <td>0.133333</td>\n",
       "      <td>1</td>\n",
       "    </tr>\n",
       "    <tr>\n",
       "      <th>8</th>\n",
       "      <td>60.537570</td>\n",
       "      <td>998.858135</td>\n",
       "      <td>1715.733715</td>\n",
       "      <td>-0.001118</td>\n",
       "      <td>2.197198</td>\n",
       "      <td>1.933333</td>\n",
       "      <td>0</td>\n",
       "    </tr>\n",
       "    <tr>\n",
       "      <th>9</th>\n",
       "      <td>81.125490</td>\n",
       "      <td>760.687035</td>\n",
       "      <td>1010.403599</td>\n",
       "      <td>-0.001320</td>\n",
       "      <td>2.071096</td>\n",
       "      <td>0.600000</td>\n",
       "      <td>1</td>\n",
       "    </tr>\n",
       "  </tbody>\n",
       "</table>\n",
       "</div>"
      ],
      "text/plain": [
       "          HR   MEDIAN_RR           LF  MEDIAN_REL_RR    sampen     pNN50  \\\n",
       "0  84.121868  727.267280   615.914573      -0.000951  2.097342  0.000000   \n",
       "1  71.478642  844.407930  1566.866135      -0.001543  2.217275  0.200000   \n",
       "2  63.874293  966.671125  2074.868884      -0.002000  2.217136  1.800000   \n",
       "3  74.330531  842.485905   505.886664       0.000445  2.106863  0.533333   \n",
       "4  82.092049  747.941620   524.203971      -0.000170  1.912191  0.666667   \n",
       "5  72.562697  836.596795   586.603990       0.000707  2.177956  0.266667   \n",
       "6  72.816960  834.290000   946.326297      -0.000266  2.186655  0.000000   \n",
       "7  83.951285  717.521215   349.917630       0.000067  2.195558  0.133333   \n",
       "8  60.537570  998.858135  1715.733715      -0.001118  2.197198  1.933333   \n",
       "9  81.125490  760.687035  1010.403599      -0.001320  2.071096  0.600000   \n",
       "\n",
       "   condition_no stress  \n",
       "0                    1  \n",
       "1                    0  \n",
       "2                    1  \n",
       "3                    1  \n",
       "4                    0  \n",
       "5                    0  \n",
       "6                    0  \n",
       "7                    1  \n",
       "8                    0  \n",
       "9                    1  "
      ]
     },
     "execution_count": 23,
     "metadata": {},
     "output_type": "execute_result"
    }
   ],
   "source": [
    "df = pd.read_csv(\"test.csv\")\n",
    "dft = pd.read_csv(\"train.csv\")\n",
    "df = pd.get_dummies(df, columns=[\"condition\"])\n",
    "dft = pd.get_dummies(dft, columns=[\"condition\"])\n",
    "dft=dft.drop(columns = \"condition_interruption\")\n",
    "dft=dft.drop(columns = \"condition_time pressure\")\n",
    "df=df.drop(columns = \"condition_interruption\")\n",
    "df=df.drop(columns = \"condition_time pressure\")\n",
    "#dft=dft.loc[\"HR\",\"MEDIAN_RR\"]\n",
    "df=df.loc[:,['HR','MEDIAN_RR','LF','MEDIAN_REL_RR','sampen','pNN50','condition_no stress']]\n",
    "dft=dft.loc[:,['HR','MEDIAN_RR','LF','MEDIAN_REL_RR','sampen','pNN50','condition_no stress']]\n",
    "#df=df.loc[\"HR\",\"MEDIAN_RR\",\"LF\",\"MEDIAN_REL_RR\",\"sampen\",\"pNN50\",\"condition_no stress\"]\n",
    "df.head(10)"
   ]
  },
  {
   "cell_type": "code",
   "execution_count": 12,
   "id": "moving-whale",
   "metadata": {},
   "outputs": [],
   "source": [
    "from sklearn import datasets\n",
    "import numpy as np\n",
    "\"\"\"Utility function to split the dataset\"\"\"\n",
    "\n",
    "iris = datasets.load_iris()    \n",
    "x = iris.data\n",
    "y = iris.target"
   ]
  },
  {
   "cell_type": "code",
   "execution_count": 16,
   "id": "political-harbor",
   "metadata": {},
   "outputs": [
    {
     "data": {
      "text/plain": [
       "array([0, 0, 0, 0, 0, 0, 0, 0, 0, 0, 0, 0, 0, 0, 0, 0, 0, 0, 0, 0, 0, 0,\n",
       "       0, 0, 0, 0, 0, 0, 0, 0, 0, 0, 0, 0, 0, 0, 0, 0, 0, 0, 0, 0, 0, 0,\n",
       "       0, 0, 0, 0, 0, 0, 1, 1, 1, 1, 1, 1, 1, 1, 1, 1, 1, 1, 1, 1, 1, 1,\n",
       "       1, 1, 1, 1, 1, 1, 1, 1, 1, 1, 1, 1, 1, 1, 1, 1, 1, 1, 1, 1, 1, 1,\n",
       "       1, 1, 1, 1, 1, 1, 1, 1, 1, 1, 1, 1, 2, 2, 2, 2, 2, 2, 2, 2, 2, 2,\n",
       "       2, 2, 2, 2, 2, 2, 2, 2, 2, 2, 2, 2, 2, 2, 2, 2, 2, 2, 2, 2, 2, 2,\n",
       "       2, 2, 2, 2, 2, 2, 2, 2, 2, 2, 2, 2, 2, 2, 2, 2, 2, 2])"
      ]
     },
     "execution_count": 16,
     "metadata": {},
     "output_type": "execute_result"
    }
   ],
   "source": [
    "y"
   ]
  },
  {
   "cell_type": "code",
   "execution_count": 17,
   "id": "extended-output",
   "metadata": {},
   "outputs": [],
   "source": [
    "    x = x/x.max()\n",
    "    y = y/y.max()\n",
    "    y = np.reshape(y, (-1,1))  "
   ]
  },
  {
   "cell_type": "code",
   "execution_count": 21,
   "id": "celtic-treaty",
   "metadata": {},
   "outputs": [
    {
     "data": {
      "text/plain": [
       "array([0.])"
      ]
     },
     "execution_count": 21,
     "metadata": {},
     "output_type": "execute_result"
    }
   ],
   "source": [
    "y[21]"
   ]
  },
  {
   "cell_type": "code",
   "execution_count": null,
   "id": "continental-boards",
   "metadata": {},
   "outputs": [],
   "source": []
  }
 ],
 "metadata": {
  "kernelspec": {
   "display_name": "Python 3",
   "language": "python",
   "name": "python3"
  },
  "language_info": {
   "codemirror_mode": {
    "name": "ipython",
    "version": 3
   },
   "file_extension": ".py",
   "mimetype": "text/x-python",
   "name": "python",
   "nbconvert_exporter": "python",
   "pygments_lexer": "ipython3",
   "version": "3.9.5"
  }
 },
 "nbformat": 4,
 "nbformat_minor": 5
}
